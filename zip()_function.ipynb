{
  "nbformat": 4,
  "nbformat_minor": 0,
  "metadata": {
    "colab": {
      "name": "zip() function.ipynb",
      "provenance": [],
      "collapsed_sections": [],
      "authorship_tag": "ABX9TyPy/0jKXmee++tz76AUWDve",
      "include_colab_link": true
    },
    "kernelspec": {
      "name": "python3",
      "display_name": "Python 3"
    },
    "language_info": {
      "name": "python"
    }
  },
  "cells": [
    {
      "cell_type": "markdown",
      "metadata": {
        "id": "view-in-github",
        "colab_type": "text"
      },
      "source": [
        "<a href=\"https://colab.research.google.com/github/Shaila-B/Python-Concepts-Programs/blob/main/zip()_function.ipynb\" target=\"_parent\"><img src=\"https://colab.research.google.com/assets/colab-badge.svg\" alt=\"Open In Colab\"/></a>"
      ]
    },
    {
      "cell_type": "markdown",
      "metadata": {
        "id": "DTl5VqM9OcI5"
      },
      "source": [
        "## **zip() Function**\n",
        "\n",
        "---\n",
        "\n",
        "\n"
      ]
    },
    {
      "cell_type": "markdown",
      "metadata": {
        "id": "tXLqIr31vihC"
      },
      "source": [
        "**zip()** function. It is used when there are two or more iterables and they need to be aggregated into one iterable.\n",
        "\n",
        "For references see the example below:\n"
      ]
    },
    {
      "cell_type": "code",
      "metadata": {
        "id": "taQkSetuw6P0"
      },
      "source": [
        "list1 = [1, 2, 3, 4]"
      ],
      "execution_count": null,
      "outputs": []
    },
    {
      "cell_type": "code",
      "metadata": {
        "id": "m7jmbwD_xUPE"
      },
      "source": [
        "list2 = [5, 6, 7, 8]"
      ],
      "execution_count": null,
      "outputs": []
    },
    {
      "cell_type": "code",
      "metadata": {
        "id": "_2AxlNKzxh0L"
      },
      "source": [
        "result = list(zip(list1, list2))"
      ],
      "execution_count": null,
      "outputs": []
    },
    {
      "cell_type": "code",
      "metadata": {
        "colab": {
          "base_uri": "https://localhost:8080/"
        },
        "id": "ym9qM3qVxsUP",
        "outputId": "5cec3262-abab-4891-dcc0-44231fa1f335"
      },
      "source": [
        "print(result)"
      ],
      "execution_count": null,
      "outputs": [
        {
          "output_type": "stream",
          "text": [
            "[(1, 4), (2, 5), (3, 6)]\n"
          ],
          "name": "stdout"
        }
      ]
    },
    {
      "cell_type": "markdown",
      "metadata": {
        "id": "uLMgTIDmyAs-"
      },
      "source": [
        "When two lists have equal number of elements, 3rd list with elements from both lists can be created using zip()."
      ]
    },
    {
      "cell_type": "code",
      "metadata": {
        "id": "o6XASEAI1XwJ"
      },
      "source": [
        "list1 = [1, 2, 3]"
      ],
      "execution_count": null,
      "outputs": []
    },
    {
      "cell_type": "code",
      "metadata": {
        "id": "AYfQmks11keD"
      },
      "source": [
        "list2 = [4, 5, 6]"
      ],
      "execution_count": null,
      "outputs": []
    },
    {
      "cell_type": "markdown",
      "metadata": {
        "id": "0YqywB_21pax"
      },
      "source": [
        "Here the list1 and list2 have equal number of elements. The result list  contains the list1 and list2 elements. "
      ]
    },
    {
      "cell_type": "code",
      "metadata": {
        "id": "weCZTfdZ1nlI"
      },
      "source": [
        "result = list(zip(list1, list2))"
      ],
      "execution_count": null,
      "outputs": []
    },
    {
      "cell_type": "code",
      "metadata": {
        "colab": {
          "base_uri": "https://localhost:8080/"
        },
        "id": "M_IO-VNN2UlM",
        "outputId": "a916e43e-c9a5-4a60-c343-ebb75acc2fc8"
      },
      "source": [
        "print(result)"
      ],
      "execution_count": null,
      "outputs": [
        {
          "output_type": "stream",
          "text": [
            "[(1, 4), (2, 5), (3, 6)]\n"
          ],
          "name": "stdout"
        }
      ]
    },
    {
      "cell_type": "markdown",
      "metadata": {
        "id": "GA2Kax723GqA"
      },
      "source": [
        "When two lists have equal number of elements, we can create dict with the these elements, first lists elements will be considered as keys and second lists elements will be considered as values.\n",
        "\n",
        "For example :"
      ]
    },
    {
      "cell_type": "code",
      "metadata": {
        "id": "LfRl700x4_8k"
      },
      "source": [
        "list1 = [1, 2, 3]"
      ],
      "execution_count": null,
      "outputs": []
    },
    {
      "cell_type": "code",
      "metadata": {
        "id": "e-jqiTxB5lCb"
      },
      "source": [
        "list2 = [4, 5, 6]"
      ],
      "execution_count": null,
      "outputs": []
    },
    {
      "cell_type": "code",
      "metadata": {
        "id": "mVIPk9VV5oZy"
      },
      "source": [
        "result = dict(zip(list1, list2))"
      ],
      "execution_count": null,
      "outputs": []
    },
    {
      "cell_type": "code",
      "metadata": {
        "colab": {
          "base_uri": "https://localhost:8080/"
        },
        "id": "-XrFYQ0p5uM5",
        "outputId": "7c836a55-ee6e-44fc-8e64-8e6609602295"
      },
      "source": [
        "print(result)"
      ],
      "execution_count": null,
      "outputs": [
        {
          "output_type": "stream",
          "text": [
            "{1: 4, 2: 5, 3: 6}\n"
          ],
          "name": "stdout"
        }
      ]
    },
    {
      "cell_type": "markdown",
      "metadata": {
        "id": "l21Gb6wK50Yd"
      },
      "source": [
        "## **Let's see some more example below**"
      ]
    },
    {
      "cell_type": "markdown",
      "metadata": {
        "id": "QUh6kY1ZRagF"
      },
      "source": [
        "**Creating list using columns and values or data.**"
      ]
    },
    {
      "cell_type": "code",
      "metadata": {
        "id": "x1Oxm72EN8YG"
      },
      "source": [
        "columns = ['employee_id', 'employee_name', 'employee_salary']"
      ],
      "execution_count": null,
      "outputs": []
    },
    {
      "cell_type": "code",
      "metadata": {
        "id": "m5Bx9yhQQcC1"
      },
      "source": [
        "values = [1, 'John', '50000']"
      ],
      "execution_count": null,
      "outputs": []
    },
    {
      "cell_type": "code",
      "metadata": {
        "id": "B2FfMdB5QpBV"
      },
      "source": [
        "employee_details = list(zip(columns, values))"
      ],
      "execution_count": null,
      "outputs": []
    },
    {
      "cell_type": "code",
      "metadata": {
        "colab": {
          "base_uri": "https://localhost:8080/"
        },
        "id": "NavXrQW8Q0uA",
        "outputId": "db7791ca-41df-4daa-b6e8-87532fb7f45a"
      },
      "source": [
        "print(employee_details)"
      ],
      "execution_count": null,
      "outputs": [
        {
          "output_type": "stream",
          "text": [
            "[('employee_id', 1), ('employee_name', 'John'), ('employee_salary', '50000')]\n"
          ],
          "name": "stdout"
        }
      ]
    },
    {
      "cell_type": "markdown",
      "metadata": {
        "id": "qSmnElvXSK5S"
      },
      "source": [
        "**Creating dict using column and values**"
      ]
    },
    {
      "cell_type": "code",
      "metadata": {
        "id": "XTgKpYM9SZDo"
      },
      "source": [
        "columns = ['employee_id', 'employee_name', 'employee_salary']"
      ],
      "execution_count": null,
      "outputs": []
    },
    {
      "cell_type": "code",
      "metadata": {
        "id": "Gt3zAGiDSlz1"
      },
      "source": [
        "values = [1, 'Smith', 80000]"
      ],
      "execution_count": null,
      "outputs": []
    },
    {
      "cell_type": "code",
      "metadata": {
        "id": "KKJYwdihTI8X"
      },
      "source": [
        "employee_details = dict(zip(columns, values))"
      ],
      "execution_count": null,
      "outputs": []
    },
    {
      "cell_type": "code",
      "metadata": {
        "colab": {
          "base_uri": "https://localhost:8080/"
        },
        "id": "iwG-KF7uTmNB",
        "outputId": "c0d0c078-4be8-4783-9269-be89dba867c0"
      },
      "source": [
        "print(employee_details)"
      ],
      "execution_count": null,
      "outputs": [
        {
          "output_type": "stream",
          "text": [
            "{'employee_id': 1, 'employee_name': 'Smith', 'employee_salary': 80000}\n"
          ],
          "name": "stdout"
        }
      ]
    },
    {
      "cell_type": "markdown",
      "metadata": {
        "id": "tBLzqJDPUL9Z"
      },
      "source": [
        "**We can apply zip() on tuples**"
      ]
    },
    {
      "cell_type": "code",
      "metadata": {
        "id": "YL0Z5qqcUg0n"
      },
      "source": [
        "columns = ('employee_id', 'employee_name', 'employee_salary')"
      ],
      "execution_count": null,
      "outputs": []
    },
    {
      "cell_type": "code",
      "metadata": {
        "id": "2fQIjc0jio-B"
      },
      "source": [
        "values = (1, 'Eshani', 50000)"
      ],
      "execution_count": null,
      "outputs": []
    },
    {
      "cell_type": "code",
      "metadata": {
        "id": "7LDovL-si58o"
      },
      "source": [
        "employee_details = dict(zip(columns, values))"
      ],
      "execution_count": null,
      "outputs": []
    },
    {
      "cell_type": "code",
      "metadata": {
        "colab": {
          "base_uri": "https://localhost:8080/"
        },
        "id": "nMx1ywbyjDuX",
        "outputId": "de36c93b-a054-4ba5-dfab-108a35f0aac2"
      },
      "source": [
        "print(employee_details)"
      ],
      "execution_count": null,
      "outputs": [
        {
          "output_type": "stream",
          "text": [
            "{'employee_id': 1, 'employee_name': 'Eshani', 'employee_salary': 50000}\n"
          ],
          "name": "stdout"
        }
      ]
    },
    {
      "cell_type": "markdown",
      "metadata": {
        "id": "SQUeahHrjIHu"
      },
      "source": [
        "**zip() function for multiple data**"
      ]
    },
    {
      "cell_type": "code",
      "metadata": {
        "id": "A3_3yuLVjoJH"
      },
      "source": [
        "columns = ('employee_id', 'employee_name', 'employee_salary')"
      ],
      "execution_count": null,
      "outputs": []
    },
    {
      "cell_type": "code",
      "metadata": {
        "id": "mkR1LmVpVMIN"
      },
      "source": [
        "values = (\n",
        "    (1, 'John', 50000),\n",
        "    (2, 'Smith', 80000),\n",
        "    (3, 'Ruhi', 60000),\n",
        "    (4, 'Arnav', 50000),\n",
        ")"
      ],
      "execution_count": null,
      "outputs": []
    },
    {
      "cell_type": "markdown",
      "metadata": {
        "id": "-Sya6fvnWoNe"
      },
      "source": [
        "**In the above we have multiple employee data so here we are going to use list comprehnsion**\n",
        "\n",
        "We need to apply zip on each record to create list of dicts.\n",
        "Example using list comprehensions. We are applying zip and then dict on each employee."
      ]
    },
    {
      "cell_type": "code",
      "metadata": {
        "id": "diazzdTTVO9N"
      },
      "source": [
        "employee_details = [list(zip(columns, employee)) for employee in values]"
      ],
      "execution_count": null,
      "outputs": []
    },
    {
      "cell_type": "code",
      "metadata": {
        "colab": {
          "base_uri": "https://localhost:8080/"
        },
        "id": "pNJ_IAX0VnTs",
        "outputId": "0f544e59-4a15-4935-9c86-0650aa0705c0"
      },
      "source": [
        "print(employee_details)"
      ],
      "execution_count": null,
      "outputs": [
        {
          "output_type": "stream",
          "text": [
            "[[('employee_id', 1), ('employee_name', 'John'), ('employee_salary', 50000)], [('employee_id', 2), ('employee_name', 'Smith'), ('employee_salary', 80000)], [('employee_id', 3), ('employee_name', 'Ruhi'), ('employee_salary', 60000)], [('employee_id', 4), ('employee_name', 'Arnav'), ('employee_salary', 50000)]]\n"
          ],
          "name": "stdout"
        }
      ]
    },
    {
      "cell_type": "markdown",
      "metadata": {
        "id": "f3-lN6cnhdCf"
      },
      "source": [
        "**Dictionery Comprehnsion**"
      ]
    },
    {
      "cell_type": "code",
      "metadata": {
        "id": "G6IzcsUZkQmv"
      },
      "source": [
        "columns = ('employee_id', 'employee_name', 'employee_salary')"
      ],
      "execution_count": null,
      "outputs": []
    },
    {
      "cell_type": "code",
      "metadata": {
        "id": "wUlkff_4ke4L"
      },
      "source": [
        "values = [\n",
        "          (1, 'Teena', 80000),\n",
        "          (2, 'Mouna', 60000),\n",
        "          (3, 'Janvi', 40000),\n",
        "]"
      ],
      "execution_count": null,
      "outputs": []
    },
    {
      "cell_type": "code",
      "metadata": {
        "id": "S3Eh6-zRk4kY"
      },
      "source": [
        "employees_details = [dict(zip(columns, employee)) for employee in values]"
      ],
      "execution_count": null,
      "outputs": []
    },
    {
      "cell_type": "code",
      "metadata": {
        "id": "m9Y5_4W2lpyV",
        "colab": {
          "base_uri": "https://localhost:8080/"
        },
        "outputId": "c0cfb948-8561-417d-b1f0-01928d31e5a3"
      },
      "source": [
        "print(employees_details)"
      ],
      "execution_count": null,
      "outputs": [
        {
          "output_type": "stream",
          "text": [
            "[{'employee_id': 1, 'employee_name': 'Teena', 'employee_salary': 80000}, {'employee_id': 2, 'employee_name': 'Mouna', 'employee_salary': 60000}, {'employee_id': 3, 'employee_name': 'Janvi', 'employee_salary': 40000}]\n"
          ],
          "name": "stdout"
        }
      ]
    },
    {
      "cell_type": "markdown",
      "metadata": {
        "id": "ll0Oqsp7WONH"
      },
      "source": [
        "Using map as we are trying to apply row level transformation to convert each employee into dict with columns as keys."
      ]
    },
    {
      "cell_type": "code",
      "metadata": {
        "id": "kxkwRRBjWRBn"
      },
      "source": [
        "columns = ('employee_id', 'employee_name', 'employee_salary')"
      ],
      "execution_count": null,
      "outputs": []
    },
    {
      "cell_type": "code",
      "metadata": {
        "id": "r9NycCXGUoVP"
      },
      "source": [
        "values = [\n",
        "          (1, 'John', 50000),\n",
        "          (2, 'Smith', 80000),\n",
        "          (3, 'Sanvi', 60000)\n",
        "]"
      ],
      "execution_count": null,
      "outputs": []
    },
    {
      "cell_type": "code",
      "metadata": {
        "id": "4yCIMAwxVzIN"
      },
      "source": [
        "employee_details = list(map(lambda employee: dict(zip(columns, employee)), values))"
      ],
      "execution_count": null,
      "outputs": []
    },
    {
      "cell_type": "code",
      "metadata": {
        "id": "zJAbfTOoWl_Y",
        "colab": {
          "base_uri": "https://localhost:8080/"
        },
        "outputId": "0395170d-f300-4d8b-c76c-68a5820b2c4b"
      },
      "source": [
        "print(employee_details)"
      ],
      "execution_count": null,
      "outputs": [
        {
          "output_type": "stream",
          "text": [
            "[{'employee_id': 1, 'employee_name': 'John', 'employee_salary': 50000}, {'employee_id': 2, 'employee_name': 'Smith', 'employee_salary': 80000}, {'employee_id': 3, 'employee_name': 'Sanvi', 'employee_salary': 60000}]\n"
          ],
          "name": "stdout"
        }
      ]
    },
    {
      "cell_type": "markdown",
      "metadata": {
        "id": "xa1dGigsvOvp"
      },
      "source": [
        "Printing data type of first element employees_list"
      ]
    },
    {
      "cell_type": "code",
      "metadata": {
        "colab": {
          "base_uri": "https://localhost:8080/"
        },
        "id": "PnhcCSyLvGiP",
        "outputId": "767ee50a-7c7b-4297-ed33-75f1586d7950"
      },
      "source": [
        "print(employee_details[0])"
      ],
      "execution_count": null,
      "outputs": [
        {
          "output_type": "stream",
          "text": [
            "{'employee_id': 1, 'employee_name': 'John', 'employee_salary': 50000}\n"
          ],
          "name": "stdout"
        }
      ]
    },
    {
      "cell_type": "markdown",
      "metadata": {
        "id": "609H3L02vRmY"
      },
      "source": [
        "Printing size of employees_list"
      ]
    },
    {
      "cell_type": "code",
      "metadata": {
        "colab": {
          "base_uri": "https://localhost:8080/"
        },
        "id": "ABU9Y31HvYW4",
        "outputId": "2362d3a2-0f76-4bf4-f76b-625f9971f1db"
      },
      "source": [
        "print(len(employee_details))"
      ],
      "execution_count": null,
      "outputs": [
        {
          "output_type": "stream",
          "text": [
            "3\n"
          ],
          "name": "stdout"
        }
      ]
    }
  ]
}